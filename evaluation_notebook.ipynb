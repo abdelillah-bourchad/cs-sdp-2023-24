{
 "cells": [
  {
   "cell_type": "code",
   "execution_count": 1,
   "metadata": {},
   "outputs": [],
   "source": [
    "import os\n",
    "import sys\n",
    "\n",
    "sys.path.append(\"python/\")\n",
    "\n",
    "import metrics\n",
    "import numpy as np\n",
    "from data import Dataloader\n",
    "# from models_using_errors import HeuristicModel, TwoClustersMIP\n",
    "from models import TwoClustersMIP, HeuristicModel"
   ]
  },
  {
   "cell_type": "code",
   "execution_count": 2,
   "metadata": {},
   "outputs": [
    {
     "name": "stdout",
     "output_type": "stream",
     "text": [
      "Percentage of explained preferences: 0.7572371381430928\n"
     ]
    },
    {
     "ename": "KeyboardInterrupt",
     "evalue": "",
     "output_type": "error",
     "traceback": [
      "\u001b[1;31m---------------------------------------------------------------------------\u001b[0m",
      "\u001b[1;31mKeyboardInterrupt\u001b[0m                         Traceback (most recent call last)",
      "Cell \u001b[1;32mIn[2], line 27\u001b[0m\n\u001b[0;32m     25\u001b[0m \u001b[38;5;66;03m# %Cluster Intersection\u001b[39;00m\n\u001b[0;32m     26\u001b[0m cluster_intersection \u001b[38;5;241m=\u001b[39m metrics\u001b[38;5;241m.\u001b[39mClusterIntersection()\n\u001b[1;32m---> 27\u001b[0m b \u001b[38;5;241m=\u001b[39m \u001b[43mcluster_intersection\u001b[49m\u001b[38;5;241;43m.\u001b[39;49m\u001b[43mfrom_model\u001b[49m\u001b[43m(\u001b[49m\u001b[43mmodel\u001b[49m\u001b[43m,\u001b[49m\u001b[43m \u001b[49m\u001b[43mX\u001b[49m\u001b[43m,\u001b[49m\u001b[43m \u001b[49m\u001b[43mY\u001b[49m\u001b[43m,\u001b[49m\u001b[43m \u001b[49m\u001b[43mZ\u001b[49m\u001b[43m)\u001b[49m\n\u001b[0;32m     28\u001b[0m \u001b[38;5;28mprint\u001b[39m(\u001b[38;5;124m\"\u001b[39m\u001b[38;5;132;01m% o\u001b[39;00m\u001b[38;5;124mf pairs well grouped together by the model:\u001b[39m\u001b[38;5;124m\"\u001b[39m)\n\u001b[0;32m     29\u001b[0m \u001b[38;5;28mprint\u001b[39m( \u001b[38;5;124m\"\u001b[39m\u001b[38;5;124mCluster intersection for all samples:\u001b[39m\u001b[38;5;124m\"\u001b[39m, b)\n",
      "File \u001b[1;32mc:\\Users\\abdel\\OneDrive\\Documents\\Cours 3A\\SDP\\Projet\\cs-sdp-2023-24\\python\\metrics.py:135\u001b[0m, in \u001b[0;36mClusterIntersection.from_model\u001b[1;34m(self, model, X, Y, z_true)\u001b[0m\n\u001b[0;32m    116\u001b[0m \u001b[38;5;28;01mdef\u001b[39;00m \u001b[38;5;21mfrom_model\u001b[39m(\u001b[38;5;28mself\u001b[39m, model, X, Y, z_true):\n\u001b[0;32m    117\u001b[0m \u001b[38;5;250m    \u001b[39m\u001b[38;5;124;03m\"\"\"Method to use the metric from a model and data.\u001b[39;00m\n\u001b[0;32m    118\u001b[0m \n\u001b[0;32m    119\u001b[0m \u001b[38;5;124;03m    Parameters\u001b[39;00m\n\u001b[1;32m   (...)\u001b[0m\n\u001b[0;32m    133\u001b[0m \u001b[38;5;124;03m        float Percentage of pairs attributed regrouped within same cluster in prediction compared to ground truth\u001b[39;00m\n\u001b[0;32m    134\u001b[0m \u001b[38;5;124;03m    \"\"\"\u001b[39;00m\n\u001b[1;32m--> 135\u001b[0m     z_pred \u001b[38;5;241m=\u001b[39m \u001b[43mmodel\u001b[49m\u001b[38;5;241;43m.\u001b[39;49m\u001b[43mpredict_cluster\u001b[49m\u001b[43m(\u001b[49m\u001b[43mX\u001b[49m\u001b[43m,\u001b[49m\u001b[43m \u001b[49m\u001b[43mY\u001b[49m\u001b[43m)\u001b[49m\n\u001b[0;32m    136\u001b[0m     \u001b[38;5;28;01mreturn\u001b[39;00m \u001b[38;5;28mself\u001b[39m(z_pred, z_true)\n",
      "File \u001b[1;32mc:\\Users\\abdel\\OneDrive\\Documents\\Cours 3A\\SDP\\Projet\\cs-sdp-2023-24\\python\\models.py:87\u001b[0m, in \u001b[0;36mBaseModel.predict_cluster\u001b[1;34m(self, X, Y)\u001b[0m\n\u001b[0;32m     69\u001b[0m \u001b[38;5;250m\u001b[39m\u001b[38;5;124;03m\"\"\"Predict which cluster prefers X over Y THE MOST, meaning that if several cluster prefer X over Y, it will\u001b[39;00m\n\u001b[0;32m     70\u001b[0m \u001b[38;5;124;03mbe assigned to the cluster showing the highest utility difference). The reversal is True if none of the clusters\u001b[39;00m\n\u001b[0;32m     71\u001b[0m \u001b[38;5;124;03mprefer X over Y.\u001b[39;00m\n\u001b[1;32m   (...)\u001b[0m\n\u001b[0;32m     84\u001b[0m \u001b[38;5;124;03m    (n_samples, ) index of cluster with highest preference difference between X and Y.\u001b[39;00m\n\u001b[0;32m     85\u001b[0m \u001b[38;5;124;03m\"\"\"\u001b[39;00m\n\u001b[0;32m     86\u001b[0m X_u \u001b[38;5;241m=\u001b[39m \u001b[38;5;28mself\u001b[39m\u001b[38;5;241m.\u001b[39mpredict_utility(X)\n\u001b[1;32m---> 87\u001b[0m Y_u \u001b[38;5;241m=\u001b[39m \u001b[38;5;28;43mself\u001b[39;49m\u001b[38;5;241;43m.\u001b[39;49m\u001b[43mpredict_utility\u001b[49m\u001b[43m(\u001b[49m\u001b[43mY\u001b[49m\u001b[43m)\u001b[49m\n\u001b[0;32m     89\u001b[0m \u001b[38;5;28;01mreturn\u001b[39;00m np\u001b[38;5;241m.\u001b[39margmax(X_u \u001b[38;5;241m-\u001b[39m Y_u, axis\u001b[38;5;241m=\u001b[39m\u001b[38;5;241m1\u001b[39m)\n",
      "File \u001b[1;32mc:\\Users\\abdel\\OneDrive\\Documents\\Cours 3A\\SDP\\Projet\\cs-sdp-2023-24\\python\\models.py:742\u001b[0m, in \u001b[0;36mHeuristicModel.predict_utility\u001b[1;34m(self, X)\u001b[0m\n\u001b[0;32m    740\u001b[0m utilities \u001b[38;5;241m=\u001b[39m np\u001b[38;5;241m.\u001b[39mzeros((\u001b[38;5;28mself\u001b[39m\u001b[38;5;241m.\u001b[39mP, \u001b[38;5;28mself\u001b[39m\u001b[38;5;241m.\u001b[39mK))\n\u001b[0;32m    741\u001b[0m \u001b[38;5;28;01mfor\u001b[39;00m k \u001b[38;5;129;01min\u001b[39;00m \u001b[38;5;28mrange\u001b[39m(\u001b[38;5;28mself\u001b[39m\u001b[38;5;241m.\u001b[39mK) : \n\u001b[1;32m--> 742\u001b[0m     utilities[:, k] \u001b[38;5;241m=\u001b[39m \u001b[43mpredict_util\u001b[49m\u001b[43m(\u001b[49m\u001b[43mX\u001b[49m\u001b[43m,\u001b[49m\u001b[43m \u001b[49m\u001b[38;5;28;43mself\u001b[39;49m\u001b[38;5;241;43m.\u001b[39;49m\u001b[43mmodels\u001b[49m\u001b[43m[\u001b[49m\u001b[43mk\u001b[49m\u001b[43m]\u001b[49m\u001b[43m)\u001b[49m\n\u001b[0;32m    743\u001b[0m \u001b[38;5;28;01mreturn\u001b[39;00m utilities\n",
      "File \u001b[1;32mc:\\Users\\abdel\\OneDrive\\Documents\\Cours 3A\\SDP\\Projet\\cs-sdp-2023-24\\python\\models.py:735\u001b[0m, in \u001b[0;36mHeuristicModel.predict_utility.<locals>.predict_util\u001b[1;34m(X, U)\u001b[0m\n\u001b[0;32m    733\u001b[0m \u001b[38;5;28;01mfor\u001b[39;00m j \u001b[38;5;129;01min\u001b[39;00m \u001b[38;5;28mrange\u001b[39m(P):\n\u001b[0;32m    734\u001b[0m     \u001b[38;5;28;01mfor\u001b[39;00m i \u001b[38;5;129;01min\u001b[39;00m \u001b[38;5;28mrange\u001b[39m(n):\n\u001b[1;32m--> 735\u001b[0m         l, bp1, bp2 \u001b[38;5;241m=\u001b[39m \u001b[43mget_index\u001b[49m\u001b[43m(\u001b[49m\u001b[43mX\u001b[49m\u001b[43m[\u001b[49m\u001b[43mj\u001b[49m\u001b[43m,\u001b[49m\u001b[43m \u001b[49m\u001b[43mi\u001b[49m\u001b[43m]\u001b[49m\u001b[43m)\u001b[49m\n\u001b[0;32m    736\u001b[0m         utilities[j] \u001b[38;5;241m+\u001b[39m\u001b[38;5;241m=\u001b[39m U[(i, l)] \u001b[38;5;241m+\u001b[39m ((X[j, i] \u001b[38;5;241m-\u001b[39m bp1) \u001b[38;5;241m/\u001b[39m (bp2 \u001b[38;5;241m-\u001b[39m bp1)) \u001b[38;5;241m*\u001b[39m (U[(i, l\u001b[38;5;241m+\u001b[39m\u001b[38;5;241m1\u001b[39m)] \u001b[38;5;241m-\u001b[39m U[(i, l)])\n\u001b[0;32m    738\u001b[0m \u001b[38;5;28;01mreturn\u001b[39;00m utilities\n",
      "File \u001b[1;32mc:\\Users\\abdel\\OneDrive\\Documents\\Cours 3A\\SDP\\Projet\\cs-sdp-2023-24\\python\\models.py:729\u001b[0m, in \u001b[0;36mHeuristicModel.predict_utility.<locals>.predict_util.<locals>.get_index\u001b[1;34m(x)\u001b[0m\n\u001b[0;32m    727\u001b[0m \u001b[38;5;28;01mif\u001b[39;00m x\u001b[38;5;241m>\u001b[39m\u001b[38;5;241m=\u001b[39msegments[\u001b[38;5;241m-\u001b[39m\u001b[38;5;241m1\u001b[39m] : \n\u001b[0;32m    728\u001b[0m     \u001b[38;5;28;01mreturn\u001b[39;00m L\u001b[38;5;241m-\u001b[39m\u001b[38;5;241m1\u001b[39m, segments[\u001b[38;5;241m-\u001b[39m\u001b[38;5;241m2\u001b[39m], segments[\u001b[38;5;241m-\u001b[39m\u001b[38;5;241m1\u001b[39m]\n\u001b[1;32m--> 729\u001b[0m last_segment_index \u001b[38;5;241m=\u001b[39m \u001b[43mnp\u001b[49m\u001b[38;5;241;43m.\u001b[39;49m\u001b[43margmax\u001b[49m\u001b[43m(\u001b[49m\u001b[43msegments\u001b[49m\u001b[38;5;241;43m>\u001b[39;49m\u001b[43mx\u001b[49m\u001b[43m)\u001b[49m\n\u001b[0;32m    730\u001b[0m \u001b[38;5;28;01mreturn\u001b[39;00m last_segment_index\u001b[38;5;241m-\u001b[39m\u001b[38;5;241m1\u001b[39m, segments[last_segment_index\u001b[38;5;241m-\u001b[39m\u001b[38;5;241m1\u001b[39m], segments[last_segment_index]\n",
      "File \u001b[1;32m~\\AppData\\Roaming\\Python\\Python311\\site-packages\\numpy\\core\\fromnumeric.py:1229\u001b[0m, in \u001b[0;36margmax\u001b[1;34m(a, axis, out, keepdims)\u001b[0m\n\u001b[0;32m   1142\u001b[0m \u001b[38;5;250m\u001b[39m\u001b[38;5;124;03m\"\"\"\u001b[39;00m\n\u001b[0;32m   1143\u001b[0m \u001b[38;5;124;03mReturns the indices of the maximum values along an axis.\u001b[39;00m\n\u001b[0;32m   1144\u001b[0m \n\u001b[1;32m   (...)\u001b[0m\n\u001b[0;32m   1226\u001b[0m \u001b[38;5;124;03m(2, 1, 4)\u001b[39;00m\n\u001b[0;32m   1227\u001b[0m \u001b[38;5;124;03m\"\"\"\u001b[39;00m\n\u001b[0;32m   1228\u001b[0m kwds \u001b[38;5;241m=\u001b[39m {\u001b[38;5;124m'\u001b[39m\u001b[38;5;124mkeepdims\u001b[39m\u001b[38;5;124m'\u001b[39m: keepdims} \u001b[38;5;28;01mif\u001b[39;00m keepdims \u001b[38;5;129;01mis\u001b[39;00m \u001b[38;5;129;01mnot\u001b[39;00m np\u001b[38;5;241m.\u001b[39m_NoValue \u001b[38;5;28;01melse\u001b[39;00m {}\n\u001b[1;32m-> 1229\u001b[0m \u001b[38;5;28;01mreturn\u001b[39;00m \u001b[43m_wrapfunc\u001b[49m\u001b[43m(\u001b[49m\u001b[43ma\u001b[49m\u001b[43m,\u001b[49m\u001b[43m \u001b[49m\u001b[38;5;124;43m'\u001b[39;49m\u001b[38;5;124;43margmax\u001b[39;49m\u001b[38;5;124;43m'\u001b[39;49m\u001b[43m,\u001b[49m\u001b[43m \u001b[49m\u001b[43maxis\u001b[49m\u001b[38;5;241;43m=\u001b[39;49m\u001b[43maxis\u001b[49m\u001b[43m,\u001b[49m\u001b[43m \u001b[49m\u001b[43mout\u001b[49m\u001b[38;5;241;43m=\u001b[39;49m\u001b[43mout\u001b[49m\u001b[43m,\u001b[49m\u001b[43m \u001b[49m\u001b[38;5;241;43m*\u001b[39;49m\u001b[38;5;241;43m*\u001b[39;49m\u001b[43mkwds\u001b[49m\u001b[43m)\u001b[49m\n",
      "File \u001b[1;32m~\\AppData\\Roaming\\Python\\Python311\\site-packages\\numpy\\core\\fromnumeric.py:59\u001b[0m, in \u001b[0;36m_wrapfunc\u001b[1;34m(obj, method, *args, **kwds)\u001b[0m\n\u001b[0;32m     56\u001b[0m     \u001b[38;5;28;01mreturn\u001b[39;00m _wrapit(obj, method, \u001b[38;5;241m*\u001b[39margs, \u001b[38;5;241m*\u001b[39m\u001b[38;5;241m*\u001b[39mkwds)\n\u001b[0;32m     58\u001b[0m \u001b[38;5;28;01mtry\u001b[39;00m:\n\u001b[1;32m---> 59\u001b[0m     \u001b[38;5;28;01mreturn\u001b[39;00m \u001b[43mbound\u001b[49m\u001b[43m(\u001b[49m\u001b[38;5;241;43m*\u001b[39;49m\u001b[43margs\u001b[49m\u001b[43m,\u001b[49m\u001b[43m \u001b[49m\u001b[38;5;241;43m*\u001b[39;49m\u001b[38;5;241;43m*\u001b[39;49m\u001b[43mkwds\u001b[49m\u001b[43m)\u001b[49m\n\u001b[0;32m     60\u001b[0m \u001b[38;5;28;01mexcept\u001b[39;00m \u001b[38;5;167;01mTypeError\u001b[39;00m:\n\u001b[0;32m     61\u001b[0m     \u001b[38;5;66;03m# A TypeError occurs if the object does have such a method in its\u001b[39;00m\n\u001b[0;32m     62\u001b[0m     \u001b[38;5;66;03m# class, but its signature is not identical to that of NumPy's. This\u001b[39;00m\n\u001b[1;32m   (...)\u001b[0m\n\u001b[0;32m     66\u001b[0m     \u001b[38;5;66;03m# Call _wrapit from within the except clause to ensure a potential\u001b[39;00m\n\u001b[0;32m     67\u001b[0m     \u001b[38;5;66;03m# exception has a traceback chain.\u001b[39;00m\n\u001b[0;32m     68\u001b[0m     \u001b[38;5;28;01mreturn\u001b[39;00m _wrapit(obj, method, \u001b[38;5;241m*\u001b[39margs, \u001b[38;5;241m*\u001b[39m\u001b[38;5;241m*\u001b[39mkwds)\n",
      "\u001b[1;31mKeyboardInterrupt\u001b[0m: "
     ]
    }
   ],
   "source": [
    "\n",
    "if __name__ == \"__main__\":\n",
    "    ### 2nd part: test of the heuristic model\n",
    "    data_loader = Dataloader(\"data/dataset_10\")  # Path to test dataset\n",
    "    X, Y = data_loader.load()\n",
    "\n",
    "    Res_explanation={'negative_mutation':[], 'positive_mutation':[], 'instances_limit':[]}\n",
    "    Res_intersection={'negative_mutation':[], 'positive_mutation':[], 'instances_limit':[]}\n",
    "\n",
    "    for k in ['negative_mutation', 'positive_mutation']:\n",
    "        hyper_params={'negative_mutation':0.8, 'positive_mutation':0.8, 'instances_limit':1000}\n",
    "        for i in list(np.arange(0.5, 0.99, 0.05))+[0.98]:\n",
    "            hyper_params[k]=round(i, 2)\n",
    "            l_a, l_b=[], []\n",
    "            for j in range(10):\n",
    "                model = HeuristicModel(n_clusters=4, n_instances=X.shape[0], n_features=X.shape[1], n_pieces=5, n_iter=1, hyper_params=hyper_params)\n",
    "                model.fit(X, Y)\n",
    "\n",
    "                Z = data_loader.get_ground_truth_labels()\n",
    "                # Validation on test set\n",
    "                # %Pairs Explained\n",
    "                pairs_explained = metrics.PairsExplained()\n",
    "                a = pairs_explained.from_model(model, X, Y)\n",
    "                print(\"Percentage of explained preferences:\", a)\n",
    "\n",
    "                # %Cluster Intersection\n",
    "                cluster_intersection = metrics.ClusterIntersection()\n",
    "                b = cluster_intersection.from_model(model, X, Y, Z)\n",
    "                print(\"% of pairs well grouped together by the model:\")\n",
    "                print( \"Cluster intersection for all samples:\", b)\n",
    "                l_a.append(a)\n",
    "                l_b.append(b)\n",
    "\n",
    "            Res_explanation[k].append(np.mean(l_a))\n",
    "            Res_intersection[k].append(np.mean(l_b))\n",
    "\n",
    "\n",
    "\n",
    "        hyper_params={'negative_mutation':0.8, 'positive_mutation':0.8, 'instances_limit':1000}\n",
    "        for i in np.arange(200, 2000, 100):\n",
    "            hyper_params['instances_limit']=i\n",
    "            l_a, l_b=[], []\n",
    "            for j in range(10):\n",
    "                model = HeuristicModel(n_clusters=4, n_instances=X.shape[0], n_features=X.shape[1], n_pieces=5, n_iter=1, hyper_params=hyper_params)\n",
    "                model.fit(X, Y)\n",
    "\n",
    "                Z = data_loader.get_ground_truth_labels()\n",
    "                # Validation on test set\n",
    "                # %Pairs Explained\n",
    "                pairs_explained = metrics.PairsExplained()\n",
    "                a = pairs_explained.from_model(model, X, Y)\n",
    "                print(\"Percentage of explained preferences:\", a)\n",
    "\n",
    "                # %Cluster Intersection\n",
    "                cluster_intersection = metrics.ClusterIntersection()\n",
    "                b = cluster_intersection.from_model(model, X, Y, Z)\n",
    "                print(\"% of pairs well grouped together by the model:\")\n",
    "                print( \"Cluster intersection for all samples:\", b)\n",
    "                l_a.append(a)\n",
    "                l_b.append(b)\n",
    "                \n",
    "            Res_explanation['instances_limit'].append(np.mean(l_a))\n",
    "            Res_intersection['instances_limit'].append(np.mean(l_b))"
   ]
  },
  {
   "cell_type": "code",
   "execution_count": 3,
   "metadata": {},
   "outputs": [
    {
     "data": {
      "text/plain": [
       "{'negative_mutation': [], 'positive_mutation': [], 'instances_limit': []}"
      ]
     },
     "execution_count": 3,
     "metadata": {},
     "output_type": "execute_result"
    }
   ],
   "source": [
    "Res_explanation"
   ]
  },
  {
   "cell_type": "code",
   "execution_count": 4,
   "metadata": {},
   "outputs": [
    {
     "data": {
      "text/plain": [
       "{'negative_mutation': [], 'positive_mutation': [], 'instances_limit': []}"
      ]
     },
     "execution_count": 4,
     "metadata": {},
     "output_type": "execute_result"
    }
   ],
   "source": [
    "Res_intersection"
   ]
  },
  {
   "cell_type": "code",
   "execution_count": null,
   "metadata": {},
   "outputs": [],
   "source": [
    "axe_x = list(np.arange(0.5, 0.99, 0.05))+[0.98]\n",
    "axe_x1 = [k for k in range(10)]"
   ]
  }
 ],
 "metadata": {
  "kernelspec": {
   "display_name": "Python 3",
   "language": "python",
   "name": "python3"
  },
  "language_info": {
   "codemirror_mode": {
    "name": "ipython",
    "version": 3
   },
   "file_extension": ".py",
   "mimetype": "text/x-python",
   "name": "python",
   "nbconvert_exporter": "python",
   "pygments_lexer": "ipython3",
   "version": "3.11.0"
  }
 },
 "nbformat": 4,
 "nbformat_minor": 2
}
