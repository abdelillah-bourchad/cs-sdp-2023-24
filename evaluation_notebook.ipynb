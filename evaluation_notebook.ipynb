{
 "cells": [
  {
   "cell_type": "code",
   "execution_count": 1,
   "metadata": {},
   "outputs": [],
   "source": [
    "import os\n",
    "import sys\n",
    "\n",
    "sys.path.append(\"python/\")\n",
    "\n",
    "import metrics\n",
    "import numpy as np\n",
    "from data import Dataloader\n",
    "# from models_using_errors import HeuristicModel, TwoClustersMIP\n",
    "from models import TwoClustersMIP, HeuristicModel"
   ]
  },
  {
   "cell_type": "code",
   "execution_count": 8,
   "metadata": {},
   "outputs": [
    {
     "name": "stdout",
     "output_type": "stream",
     "text": [
      "Iteration 91 : \n",
      "Explained pairs pourcentage : 0.9512524373781311\n"
     ]
    },
    {
     "ename": "KeyboardInterrupt",
     "evalue": "",
     "output_type": "error",
     "traceback": [
      "\u001b[1;31m---------------------------------------------------------------------------\u001b[0m",
      "\u001b[1;31mKeyboardInterrupt\u001b[0m                         Traceback (most recent call last)",
      "Cell \u001b[1;32mIn[8], line 16\u001b[0m\n\u001b[0;32m     14\u001b[0m \u001b[38;5;28;01mfor\u001b[39;00m j \u001b[38;5;129;01min\u001b[39;00m \u001b[38;5;28mrange\u001b[39m(\u001b[38;5;241m10\u001b[39m):\n\u001b[0;32m     15\u001b[0m     model \u001b[38;5;241m=\u001b[39m HeuristicModel(n_clusters\u001b[38;5;241m=\u001b[39m\u001b[38;5;241m4\u001b[39m, n_instances\u001b[38;5;241m=\u001b[39mX\u001b[38;5;241m.\u001b[39mshape[\u001b[38;5;241m0\u001b[39m], n_features\u001b[38;5;241m=\u001b[39mX\u001b[38;5;241m.\u001b[39mshape[\u001b[38;5;241m1\u001b[39m], n_pieces\u001b[38;5;241m=\u001b[39m\u001b[38;5;241m5\u001b[39m, n_iter\u001b[38;5;241m=\u001b[39m\u001b[38;5;241m100\u001b[39m, hyper_params\u001b[38;5;241m=\u001b[39mhyper_params)\n\u001b[1;32m---> 16\u001b[0m     \u001b[43mmodel\u001b[49m\u001b[38;5;241;43m.\u001b[39;49m\u001b[43mfit\u001b[49m\u001b[43m(\u001b[49m\u001b[43mX\u001b[49m\u001b[43m,\u001b[49m\u001b[43m \u001b[49m\u001b[43mY\u001b[49m\u001b[43m)\u001b[49m\n\u001b[0;32m     18\u001b[0m     Z \u001b[38;5;241m=\u001b[39m data_loader\u001b[38;5;241m.\u001b[39mget_ground_truth_labels()\n\u001b[0;32m     19\u001b[0m     \u001b[38;5;66;03m# Validation on test set\u001b[39;00m\n\u001b[0;32m     20\u001b[0m     \u001b[38;5;66;03m# %Pairs Explained\u001b[39;00m\n",
      "File \u001b[1;32mc:\\Users\\abdel\\OneDrive\\Documents\\Cours 3A\\SDP\\Projet\\cs-sdp-2023-24\\python\\models.py:696\u001b[0m, in \u001b[0;36mHeuristicModel.fit\u001b[1;34m(self, X, Y)\u001b[0m\n\u001b[0;32m    694\u001b[0m     \u001b[38;5;28mself\u001b[39m\u001b[38;5;241m.\u001b[39mmodels[k] \u001b[38;5;241m=\u001b[39m fit_uta_proba(X[args_k], Y[args_k], labels[:, k][args_k])\n\u001b[0;32m    695\u001b[0m     Ux \u001b[38;5;241m=\u001b[39m predict_util(X, \u001b[38;5;28mself\u001b[39m\u001b[38;5;241m.\u001b[39mmodels[k])\n\u001b[1;32m--> 696\u001b[0m     Uy \u001b[38;5;241m=\u001b[39m \u001b[43mpredict_util\u001b[49m\u001b[43m(\u001b[49m\u001b[43mY\u001b[49m\u001b[43m,\u001b[49m\u001b[43m \u001b[49m\u001b[38;5;28;43mself\u001b[39;49m\u001b[38;5;241;43m.\u001b[39;49m\u001b[43mmodels\u001b[49m\u001b[43m[\u001b[49m\u001b[43mk\u001b[49m\u001b[43m]\u001b[49m\u001b[43m)\u001b[49m\n\u001b[0;32m    697\u001b[0m     utilities[k] \u001b[38;5;241m=\u001b[39m (Ux, Uy)\n\u001b[0;32m    699\u001b[0m \u001b[38;5;28mself\u001b[39m\u001b[38;5;241m.\u001b[39mhistory[\u001b[38;5;124m'\u001b[39m\u001b[38;5;124mmodels\u001b[39m\u001b[38;5;124m'\u001b[39m]\u001b[38;5;241m.\u001b[39mappend(\u001b[38;5;28mself\u001b[39m\u001b[38;5;241m.\u001b[39mmodels)\n",
      "File \u001b[1;32mc:\\Users\\abdel\\OneDrive\\Documents\\Cours 3A\\SDP\\Projet\\cs-sdp-2023-24\\python\\models.py:624\u001b[0m, in \u001b[0;36mHeuristicModel.fit.<locals>.predict_util\u001b[1;34m(X, U)\u001b[0m\n\u001b[0;32m    622\u001b[0m \u001b[38;5;28;01mfor\u001b[39;00m j \u001b[38;5;129;01min\u001b[39;00m \u001b[38;5;28mrange\u001b[39m(P):\n\u001b[0;32m    623\u001b[0m     \u001b[38;5;28;01mfor\u001b[39;00m i \u001b[38;5;129;01min\u001b[39;00m \u001b[38;5;28mrange\u001b[39m(n):\n\u001b[1;32m--> 624\u001b[0m         l, bp1, bp2 \u001b[38;5;241m=\u001b[39m \u001b[43mget_index\u001b[49m\u001b[43m(\u001b[49m\u001b[43mX\u001b[49m\u001b[43m[\u001b[49m\u001b[43mj\u001b[49m\u001b[43m,\u001b[49m\u001b[43m \u001b[49m\u001b[43mi\u001b[49m\u001b[43m]\u001b[49m\u001b[43m)\u001b[49m\n\u001b[0;32m    625\u001b[0m         utilities[j] \u001b[38;5;241m+\u001b[39m\u001b[38;5;241m=\u001b[39m U[(i, l)] \u001b[38;5;241m+\u001b[39m ((X[j, i] \u001b[38;5;241m-\u001b[39m bp1) \u001b[38;5;241m/\u001b[39m (bp2 \u001b[38;5;241m-\u001b[39m bp1)) \u001b[38;5;241m*\u001b[39m (U[(i, l\u001b[38;5;241m+\u001b[39m\u001b[38;5;241m1\u001b[39m)] \u001b[38;5;241m-\u001b[39m U[(i, l)])\n\u001b[0;32m    627\u001b[0m \u001b[38;5;28;01mreturn\u001b[39;00m utilities\n",
      "File \u001b[1;32mc:\\Users\\abdel\\OneDrive\\Documents\\Cours 3A\\SDP\\Projet\\cs-sdp-2023-24\\python\\models.py:618\u001b[0m, in \u001b[0;36mHeuristicModel.fit.<locals>.predict_util.<locals>.get_index\u001b[1;34m(x)\u001b[0m\n\u001b[0;32m    616\u001b[0m \u001b[38;5;28;01mif\u001b[39;00m x\u001b[38;5;241m>\u001b[39m\u001b[38;5;241m=\u001b[39msegments[\u001b[38;5;241m-\u001b[39m\u001b[38;5;241m1\u001b[39m] : \n\u001b[0;32m    617\u001b[0m     \u001b[38;5;28;01mreturn\u001b[39;00m L\u001b[38;5;241m-\u001b[39m\u001b[38;5;241m1\u001b[39m, segments[\u001b[38;5;241m-\u001b[39m\u001b[38;5;241m2\u001b[39m], segments[\u001b[38;5;241m-\u001b[39m\u001b[38;5;241m1\u001b[39m]\n\u001b[1;32m--> 618\u001b[0m last_segment_index \u001b[38;5;241m=\u001b[39m \u001b[43mnp\u001b[49m\u001b[38;5;241;43m.\u001b[39;49m\u001b[43margmax\u001b[49m\u001b[43m(\u001b[49m\u001b[43msegments\u001b[49m\u001b[38;5;241;43m>\u001b[39;49m\u001b[43mx\u001b[49m\u001b[43m)\u001b[49m\n\u001b[0;32m    619\u001b[0m \u001b[38;5;28;01mreturn\u001b[39;00m last_segment_index\u001b[38;5;241m-\u001b[39m\u001b[38;5;241m1\u001b[39m, segments[last_segment_index\u001b[38;5;241m-\u001b[39m\u001b[38;5;241m1\u001b[39m], segments[last_segment_index]\n",
      "File \u001b[1;32m~\\AppData\\Roaming\\Python\\Python311\\site-packages\\numpy\\core\\fromnumeric.py:1229\u001b[0m, in \u001b[0;36margmax\u001b[1;34m(a, axis, out, keepdims)\u001b[0m\n\u001b[0;32m   1142\u001b[0m \u001b[38;5;250m\u001b[39m\u001b[38;5;124;03m\"\"\"\u001b[39;00m\n\u001b[0;32m   1143\u001b[0m \u001b[38;5;124;03mReturns the indices of the maximum values along an axis.\u001b[39;00m\n\u001b[0;32m   1144\u001b[0m \n\u001b[1;32m   (...)\u001b[0m\n\u001b[0;32m   1226\u001b[0m \u001b[38;5;124;03m(2, 1, 4)\u001b[39;00m\n\u001b[0;32m   1227\u001b[0m \u001b[38;5;124;03m\"\"\"\u001b[39;00m\n\u001b[0;32m   1228\u001b[0m kwds \u001b[38;5;241m=\u001b[39m {\u001b[38;5;124m'\u001b[39m\u001b[38;5;124mkeepdims\u001b[39m\u001b[38;5;124m'\u001b[39m: keepdims} \u001b[38;5;28;01mif\u001b[39;00m keepdims \u001b[38;5;129;01mis\u001b[39;00m \u001b[38;5;129;01mnot\u001b[39;00m np\u001b[38;5;241m.\u001b[39m_NoValue \u001b[38;5;28;01melse\u001b[39;00m {}\n\u001b[1;32m-> 1229\u001b[0m \u001b[38;5;28;01mreturn\u001b[39;00m \u001b[43m_wrapfunc\u001b[49m\u001b[43m(\u001b[49m\u001b[43ma\u001b[49m\u001b[43m,\u001b[49m\u001b[43m \u001b[49m\u001b[38;5;124;43m'\u001b[39;49m\u001b[38;5;124;43margmax\u001b[39;49m\u001b[38;5;124;43m'\u001b[39;49m\u001b[43m,\u001b[49m\u001b[43m \u001b[49m\u001b[43maxis\u001b[49m\u001b[38;5;241;43m=\u001b[39;49m\u001b[43maxis\u001b[49m\u001b[43m,\u001b[49m\u001b[43m \u001b[49m\u001b[43mout\u001b[49m\u001b[38;5;241;43m=\u001b[39;49m\u001b[43mout\u001b[49m\u001b[43m,\u001b[49m\u001b[43m \u001b[49m\u001b[38;5;241;43m*\u001b[39;49m\u001b[38;5;241;43m*\u001b[39;49m\u001b[43mkwds\u001b[49m\u001b[43m)\u001b[49m\n",
      "File \u001b[1;32m~\\AppData\\Roaming\\Python\\Python311\\site-packages\\numpy\\core\\fromnumeric.py:59\u001b[0m, in \u001b[0;36m_wrapfunc\u001b[1;34m(obj, method, *args, **kwds)\u001b[0m\n\u001b[0;32m     56\u001b[0m     \u001b[38;5;28;01mreturn\u001b[39;00m _wrapit(obj, method, \u001b[38;5;241m*\u001b[39margs, \u001b[38;5;241m*\u001b[39m\u001b[38;5;241m*\u001b[39mkwds)\n\u001b[0;32m     58\u001b[0m \u001b[38;5;28;01mtry\u001b[39;00m:\n\u001b[1;32m---> 59\u001b[0m     \u001b[38;5;28;01mreturn\u001b[39;00m \u001b[43mbound\u001b[49m\u001b[43m(\u001b[49m\u001b[38;5;241;43m*\u001b[39;49m\u001b[43margs\u001b[49m\u001b[43m,\u001b[49m\u001b[43m \u001b[49m\u001b[38;5;241;43m*\u001b[39;49m\u001b[38;5;241;43m*\u001b[39;49m\u001b[43mkwds\u001b[49m\u001b[43m)\u001b[49m\n\u001b[0;32m     60\u001b[0m \u001b[38;5;28;01mexcept\u001b[39;00m \u001b[38;5;167;01mTypeError\u001b[39;00m:\n\u001b[0;32m     61\u001b[0m     \u001b[38;5;66;03m# A TypeError occurs if the object does have such a method in its\u001b[39;00m\n\u001b[0;32m     62\u001b[0m     \u001b[38;5;66;03m# class, but its signature is not identical to that of NumPy's. This\u001b[39;00m\n\u001b[1;32m   (...)\u001b[0m\n\u001b[0;32m     66\u001b[0m     \u001b[38;5;66;03m# Call _wrapit from within the except clause to ensure a potential\u001b[39;00m\n\u001b[0;32m     67\u001b[0m     \u001b[38;5;66;03m# exception has a traceback chain.\u001b[39;00m\n\u001b[0;32m     68\u001b[0m     \u001b[38;5;28;01mreturn\u001b[39;00m _wrapit(obj, method, \u001b[38;5;241m*\u001b[39margs, \u001b[38;5;241m*\u001b[39m\u001b[38;5;241m*\u001b[39mkwds)\n",
      "\u001b[1;31mKeyboardInterrupt\u001b[0m: "
     ]
    }
   ],
   "source": [
    "\n",
    "if __name__ == \"__main__\":\n",
    "    ### 2nd part: test of the heuristic model\n",
    "    data_loader = Dataloader(\"data/dataset_10\")  # Path to test dataset\n",
    "    X, Y = data_loader.load()\n",
    "\n",
    "    Res_explanation={'negative_mutation':[], 'positive_mutation':[], 'instances_limit':[]}\n",
    "    Res_intersection={'negative_mutation':[], 'positive_mutation':[], 'instances_limit':[]}\n",
    "\n",
    "    for k in ['negative_mutation', 'positive_mutation']:\n",
    "        hyper_params={'negative_mutation':0.8, 'positive_mutation':0.8, 'instances_limit':1000}\n",
    "        for i in list(np.arange(0.5, 0.99, 0.05))+[0.98]:\n",
    "            hyper_params[k]=round(i, 2)\n",
    "            l_a, l_b=[], []\n",
    "            for j in range(10):\n",
    "                model = HeuristicModel(n_clusters=4, n_instances=X.shape[0], n_features=X.shape[1], n_pieces=5, n_iter=100, hyper_params=hyper_params)\n",
    "                model.fit(X, Y)\n",
    "\n",
    "                Z = data_loader.get_ground_truth_labels()\n",
    "                # Validation on test set\n",
    "                # %Pairs Explained\n",
    "                pairs_explained = metrics.PairsExplained()\n",
    "                a = pairs_explained.from_model(model, X, Y)\n",
    "                print(\"Percentage of explained preferences:\", a)\n",
    "\n",
    "                # %Cluster Intersection\n",
    "                cluster_intersection = metrics.ClusterIntersection()\n",
    "                b = cluster_intersection.from_model(model, X, Y, Z)\n",
    "                print(\"% of pairs well grouped together by the model:\")\n",
    "                print( \"Cluster intersection for all samples:\", b)\n",
    "                l_a.append(a)\n",
    "                l_b.append(b)\n",
    "\n",
    "            Res_explanation[k].append(np.mean(l_a))\n",
    "            Res_intersection[k].append(np.mean(l_b))\n",
    "\n",
    "\n",
    "\n",
    "        hyper_params={'negative_mutation':0.8, 'positive_mutation':0.8, 'instances_limit':1000}\n",
    "        for i in np.arange(200, 2000, 100):\n",
    "            hyper_params['instances_limit']=i\n",
    "            l_a, l_b=[], []\n",
    "            for j in range(10):\n",
    "                model = HeuristicModel(n_clusters=4, n_instances=X.shape[0], n_features=X.shape[1], n_pieces=5, n_iter=100, hyper_params=hyper_params)\n",
    "                model.fit(X, Y)\n",
    "\n",
    "                Z = data_loader.get_ground_truth_labels()\n",
    "                # Validation on test set\n",
    "                # %Pairs Explained\n",
    "                pairs_explained = metrics.PairsExplained()\n",
    "                a = pairs_explained.from_model(model, X, Y)\n",
    "                print(\"Percentage of explained preferences:\", a)\n",
    "\n",
    "                # %Cluster Intersection\n",
    "                cluster_intersection = metrics.ClusterIntersection()\n",
    "                b = cluster_intersection.from_model(model, X, Y, Z)\n",
    "                print(\"% of pairs well grouped together by the model:\")\n",
    "                print( \"Cluster intersection for all samples:\", b)\n",
    "                l_a.append(a)\n",
    "                l_b.append(b)\n",
    "                \n",
    "            Res_explanation['instances_limit'].append(np.mean(l_a))\n",
    "            Res_intersection['instances_limit'].append(np.mean(l_b))"
   ]
  },
  {
   "cell_type": "code",
   "execution_count": 9,
   "metadata": {},
   "outputs": [
    {
     "data": {
      "text/plain": [
       "{'negative_mutation': [0.9613769311534422, 0.9552022398880057],\n",
       " 'positive_mutation': [],\n",
       " 'instances_limit': []}"
      ]
     },
     "execution_count": 9,
     "metadata": {},
     "output_type": "execute_result"
    }
   ],
   "source": [
    "Res_explanation"
   ]
  },
  {
   "cell_type": "code",
   "execution_count": 10,
   "metadata": {},
   "outputs": [
    {
     "data": {
      "text/plain": [
       "{'negative_mutation': [0.6268502616968099, 0.6120730725044707],\n",
       " 'positive_mutation': [],\n",
       " 'instances_limit': []}"
      ]
     },
     "execution_count": 10,
     "metadata": {},
     "output_type": "execute_result"
    }
   ],
   "source": [
    "Res_intersection"
   ]
  },
  {
   "cell_type": "code",
   "execution_count": null,
   "metadata": {},
   "outputs": [],
   "source": [
    "axe_x = list(np.arange(0.5, 0.99, 0.05))+[0.98]\n",
    "axe_x1 = [k for k in range(10)]"
   ]
  }
 ],
 "metadata": {
  "kernelspec": {
   "display_name": "Python 3",
   "language": "python",
   "name": "python3"
  },
  "language_info": {
   "codemirror_mode": {
    "name": "ipython",
    "version": 3
   },
   "file_extension": ".py",
   "mimetype": "text/x-python",
   "name": "python",
   "nbconvert_exporter": "python",
   "pygments_lexer": "ipython3",
   "version": "3.11.0"
  }
 },
 "nbformat": 4,
 "nbformat_minor": 2
}
